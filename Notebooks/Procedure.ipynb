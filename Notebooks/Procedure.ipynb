{
 "cells": [
  {
   "cell_type": "markdown",
   "id": "f0d6e045-6b6b-43ed-b04d-635f042e9217",
   "metadata": {
    "pycharm": {
     "name": "#%% md\n"
    }
   },
   "source": [
    "# pyEnGNet code explanation"
   ]
  },
  {
   "cell_type": "markdown",
   "id": "c5822b16-caea-45f9-a6a7-b58186bae229",
   "metadata": {
    "pycharm": {
     "name": "#%% md\n"
    }
   },
   "source": [
    "## Imports"
   ]
  },
  {
   "cell_type": "code",
   "execution_count": 2,
   "id": "104f9867",
   "metadata": {
    "collapsed": false,
    "jupyter": {
     "outputs_hidden": false
    },
    "pycharm": {
     "name": "#%%\n"
    }
   },
   "outputs": [],
   "source": [
    "import pandas as pd\n",
    "import scipy.stats as scp\n",
    "import numpy as np\n",
    "from tqdm import tqdm\n",
    "from pyEnGNet import PyEnGNet\n"
   ]
  },
  {
   "cell_type": "markdown",
   "id": "1e7ba5b9",
   "metadata": {
    "pycharm": {
     "name": "#%% md\n"
    },
    "tags": []
   },
   "source": [
    "# Obtención de la matriz de datos\n",
    "La clase PyEnGNet recibe una matriz de datos en su constructor. Estos datos son utilizados para la obtención de un grafo que represente las aristas con correlaciones de mayor importancia del conjunto."
   ]
  },
  {
   "cell_type": "code",
   "execution_count": 6,
   "outputs": [
    {
     "data": {
      "text/plain": "          0         1         2         3         4         5         6    \\\n0    0.393726  0.052912  0.079489  0.110079  0.076913  0.170031  0.076548   \n1    0.368257  0.192921  0.304331  0.347783  0.460730  0.247321  0.488002   \n2    0.500661  0.480420  0.449263  0.462302  0.332204  0.347251  0.346586   \n3    0.418802  0.333717  0.295416  0.313251  0.385264  0.350356  0.435079   \n4    0.528209  0.466775  0.390307  0.547182  0.436885  0.585211  0.542756   \n..        ...       ...       ...       ...       ...       ...       ...   \n108  0.518182  0.514139  0.538879  0.463914  0.420827  0.638548  0.450177   \n109  0.679404  0.619771  0.718633  0.454273  0.554298  0.823445  0.462051   \n110  0.716606  0.675982  0.752573  0.653249  0.656137  0.803875  0.610495   \n111  0.659796  0.594530  0.635661  0.498229  0.605627  0.757235  0.567830   \n112  0.698325  0.698340  0.705864  0.565678  0.544833  0.826599  0.676943   \n\n          7         8         9    ...       170       171       172  \\\n0    0.378425  0.069374 -0.024883  ...  0.135870  0.555923  0.053774   \n1    0.395741  0.336612  0.395995  ...  0.368265  0.436692  0.331386   \n2    0.356450  0.509264  0.486996  ...  0.452821  0.340253  0.482209   \n3    0.418417  0.390439  0.357992  ...  0.350447  0.329192  0.426531   \n4    0.565251  0.436395  0.460720  ...  0.413356  0.582158  0.484834   \n..        ...       ...       ...  ...       ...       ...       ...   \n108  0.619931  0.414552  0.530368  ...  0.545532  0.538625  0.435721   \n109  0.778620  0.607679  0.716958  ...  0.637161  0.611109  0.622095   \n110  0.758321  0.646875  0.592495  ...  0.782004  0.693562  0.580309   \n111  0.641744  0.538927  0.681520  ...  0.606450  0.596641  0.561738   \n112  0.731156  0.675671  0.691082  ...  0.758175  0.723023  0.529402   \n\n          173       174       175       176       177       178       179  \n0    0.063177  0.120053  0.511716  0.171683  0.181483  0.186592  0.166621  \n1    0.396856  0.187229  0.297722  0.384049  0.422091  0.349731  0.260438  \n2    0.524972  0.486942  0.474888  0.435856  0.357013  0.610022  0.443499  \n3    0.389524  0.412562  0.483822  0.332376  0.317330  0.387120  0.373825  \n4    0.523137  0.522180  0.286004  0.642618  0.526924  0.584369  0.533382  \n..        ...       ...       ...       ...       ...       ...       ...  \n108  0.473603  0.701581  0.552184  0.544960  0.544448  0.543322  0.565474  \n109  0.464864  0.763002  0.690760  0.697808  0.589683  0.568464  0.537067  \n110  0.642324  0.659733  0.711134  0.755975  0.877445  0.751245  0.662435  \n111  0.496406  0.738552  0.610183  0.640114  0.689054  0.546962  0.618393  \n112  0.643550  0.803131  0.599709  0.618113  0.676671  0.633684  0.788169  \n\n[113 rows x 180 columns]",
      "text/html": "<div>\n<style scoped>\n    .dataframe tbody tr th:only-of-type {\n        vertical-align: middle;\n    }\n\n    .dataframe tbody tr th {\n        vertical-align: top;\n    }\n\n    .dataframe thead th {\n        text-align: right;\n    }\n</style>\n<table border=\"1\" class=\"dataframe\">\n  <thead>\n    <tr style=\"text-align: right;\">\n      <th></th>\n      <th>0</th>\n      <th>1</th>\n      <th>2</th>\n      <th>3</th>\n      <th>4</th>\n      <th>5</th>\n      <th>6</th>\n      <th>7</th>\n      <th>8</th>\n      <th>9</th>\n      <th>...</th>\n      <th>170</th>\n      <th>171</th>\n      <th>172</th>\n      <th>173</th>\n      <th>174</th>\n      <th>175</th>\n      <th>176</th>\n      <th>177</th>\n      <th>178</th>\n      <th>179</th>\n    </tr>\n  </thead>\n  <tbody>\n    <tr>\n      <th>0</th>\n      <td>0.393726</td>\n      <td>0.052912</td>\n      <td>0.079489</td>\n      <td>0.110079</td>\n      <td>0.076913</td>\n      <td>0.170031</td>\n      <td>0.076548</td>\n      <td>0.378425</td>\n      <td>0.069374</td>\n      <td>-0.024883</td>\n      <td>...</td>\n      <td>0.135870</td>\n      <td>0.555923</td>\n      <td>0.053774</td>\n      <td>0.063177</td>\n      <td>0.120053</td>\n      <td>0.511716</td>\n      <td>0.171683</td>\n      <td>0.181483</td>\n      <td>0.186592</td>\n      <td>0.166621</td>\n    </tr>\n    <tr>\n      <th>1</th>\n      <td>0.368257</td>\n      <td>0.192921</td>\n      <td>0.304331</td>\n      <td>0.347783</td>\n      <td>0.460730</td>\n      <td>0.247321</td>\n      <td>0.488002</td>\n      <td>0.395741</td>\n      <td>0.336612</td>\n      <td>0.395995</td>\n      <td>...</td>\n      <td>0.368265</td>\n      <td>0.436692</td>\n      <td>0.331386</td>\n      <td>0.396856</td>\n      <td>0.187229</td>\n      <td>0.297722</td>\n      <td>0.384049</td>\n      <td>0.422091</td>\n      <td>0.349731</td>\n      <td>0.260438</td>\n    </tr>\n    <tr>\n      <th>2</th>\n      <td>0.500661</td>\n      <td>0.480420</td>\n      <td>0.449263</td>\n      <td>0.462302</td>\n      <td>0.332204</td>\n      <td>0.347251</td>\n      <td>0.346586</td>\n      <td>0.356450</td>\n      <td>0.509264</td>\n      <td>0.486996</td>\n      <td>...</td>\n      <td>0.452821</td>\n      <td>0.340253</td>\n      <td>0.482209</td>\n      <td>0.524972</td>\n      <td>0.486942</td>\n      <td>0.474888</td>\n      <td>0.435856</td>\n      <td>0.357013</td>\n      <td>0.610022</td>\n      <td>0.443499</td>\n    </tr>\n    <tr>\n      <th>3</th>\n      <td>0.418802</td>\n      <td>0.333717</td>\n      <td>0.295416</td>\n      <td>0.313251</td>\n      <td>0.385264</td>\n      <td>0.350356</td>\n      <td>0.435079</td>\n      <td>0.418417</td>\n      <td>0.390439</td>\n      <td>0.357992</td>\n      <td>...</td>\n      <td>0.350447</td>\n      <td>0.329192</td>\n      <td>0.426531</td>\n      <td>0.389524</td>\n      <td>0.412562</td>\n      <td>0.483822</td>\n      <td>0.332376</td>\n      <td>0.317330</td>\n      <td>0.387120</td>\n      <td>0.373825</td>\n    </tr>\n    <tr>\n      <th>4</th>\n      <td>0.528209</td>\n      <td>0.466775</td>\n      <td>0.390307</td>\n      <td>0.547182</td>\n      <td>0.436885</td>\n      <td>0.585211</td>\n      <td>0.542756</td>\n      <td>0.565251</td>\n      <td>0.436395</td>\n      <td>0.460720</td>\n      <td>...</td>\n      <td>0.413356</td>\n      <td>0.582158</td>\n      <td>0.484834</td>\n      <td>0.523137</td>\n      <td>0.522180</td>\n      <td>0.286004</td>\n      <td>0.642618</td>\n      <td>0.526924</td>\n      <td>0.584369</td>\n      <td>0.533382</td>\n    </tr>\n    <tr>\n      <th>...</th>\n      <td>...</td>\n      <td>...</td>\n      <td>...</td>\n      <td>...</td>\n      <td>...</td>\n      <td>...</td>\n      <td>...</td>\n      <td>...</td>\n      <td>...</td>\n      <td>...</td>\n      <td>...</td>\n      <td>...</td>\n      <td>...</td>\n      <td>...</td>\n      <td>...</td>\n      <td>...</td>\n      <td>...</td>\n      <td>...</td>\n      <td>...</td>\n      <td>...</td>\n      <td>...</td>\n    </tr>\n    <tr>\n      <th>108</th>\n      <td>0.518182</td>\n      <td>0.514139</td>\n      <td>0.538879</td>\n      <td>0.463914</td>\n      <td>0.420827</td>\n      <td>0.638548</td>\n      <td>0.450177</td>\n      <td>0.619931</td>\n      <td>0.414552</td>\n      <td>0.530368</td>\n      <td>...</td>\n      <td>0.545532</td>\n      <td>0.538625</td>\n      <td>0.435721</td>\n      <td>0.473603</td>\n      <td>0.701581</td>\n      <td>0.552184</td>\n      <td>0.544960</td>\n      <td>0.544448</td>\n      <td>0.543322</td>\n      <td>0.565474</td>\n    </tr>\n    <tr>\n      <th>109</th>\n      <td>0.679404</td>\n      <td>0.619771</td>\n      <td>0.718633</td>\n      <td>0.454273</td>\n      <td>0.554298</td>\n      <td>0.823445</td>\n      <td>0.462051</td>\n      <td>0.778620</td>\n      <td>0.607679</td>\n      <td>0.716958</td>\n      <td>...</td>\n      <td>0.637161</td>\n      <td>0.611109</td>\n      <td>0.622095</td>\n      <td>0.464864</td>\n      <td>0.763002</td>\n      <td>0.690760</td>\n      <td>0.697808</td>\n      <td>0.589683</td>\n      <td>0.568464</td>\n      <td>0.537067</td>\n    </tr>\n    <tr>\n      <th>110</th>\n      <td>0.716606</td>\n      <td>0.675982</td>\n      <td>0.752573</td>\n      <td>0.653249</td>\n      <td>0.656137</td>\n      <td>0.803875</td>\n      <td>0.610495</td>\n      <td>0.758321</td>\n      <td>0.646875</td>\n      <td>0.592495</td>\n      <td>...</td>\n      <td>0.782004</td>\n      <td>0.693562</td>\n      <td>0.580309</td>\n      <td>0.642324</td>\n      <td>0.659733</td>\n      <td>0.711134</td>\n      <td>0.755975</td>\n      <td>0.877445</td>\n      <td>0.751245</td>\n      <td>0.662435</td>\n    </tr>\n    <tr>\n      <th>111</th>\n      <td>0.659796</td>\n      <td>0.594530</td>\n      <td>0.635661</td>\n      <td>0.498229</td>\n      <td>0.605627</td>\n      <td>0.757235</td>\n      <td>0.567830</td>\n      <td>0.641744</td>\n      <td>0.538927</td>\n      <td>0.681520</td>\n      <td>...</td>\n      <td>0.606450</td>\n      <td>0.596641</td>\n      <td>0.561738</td>\n      <td>0.496406</td>\n      <td>0.738552</td>\n      <td>0.610183</td>\n      <td>0.640114</td>\n      <td>0.689054</td>\n      <td>0.546962</td>\n      <td>0.618393</td>\n    </tr>\n    <tr>\n      <th>112</th>\n      <td>0.698325</td>\n      <td>0.698340</td>\n      <td>0.705864</td>\n      <td>0.565678</td>\n      <td>0.544833</td>\n      <td>0.826599</td>\n      <td>0.676943</td>\n      <td>0.731156</td>\n      <td>0.675671</td>\n      <td>0.691082</td>\n      <td>...</td>\n      <td>0.758175</td>\n      <td>0.723023</td>\n      <td>0.529402</td>\n      <td>0.643550</td>\n      <td>0.803131</td>\n      <td>0.599709</td>\n      <td>0.618113</td>\n      <td>0.676671</td>\n      <td>0.633684</td>\n      <td>0.788169</td>\n    </tr>\n  </tbody>\n</table>\n<p>113 rows × 180 columns</p>\n</div>"
     },
     "execution_count": 6,
     "metadata": {},
     "output_type": "execute_result"
    }
   ],
   "source": [
    "df = pd.read_csv(\"Data/113_exp_mat_cond_1.csv\")\n",
    "df = df.drop(df.columns[[0,2]], axis=1)\n",
    "data = df.to_numpy()\n",
    "pd.DataFrame(data)"
   ],
   "metadata": {
    "collapsed": false,
    "pycharm": {
     "name": "#%%\n"
    }
   }
  },
  {
   "cell_type": "code",
   "execution_count": 4,
   "outputs": [
    {
     "name": "stdout",
     "output_type": "stream",
     "text": [
      "PyEnGNet Object with shape (113,180)\n"
     ]
    }
   ],
   "source": [
    "peg = PyEnGNet(data)\n",
    "print(peg)"
   ],
   "metadata": {
    "collapsed": false,
    "pycharm": {
     "name": "#%%\n"
    }
   }
  },
  {
   "cell_type": "markdown",
   "source": [
    "Our dataset is now ready to be used and apply correlation techniques"
   ],
   "metadata": {
    "collapsed": false,
    "pycharm": {
     "name": "#%% md\n"
    }
   }
  },
  {
   "cell_type": "markdown",
   "source": [
    "# Funcionamiento normal\n",
    "Primero hacemos un cruce entre los resultados de aplicar diversas técnicas de correlación"
   ],
   "metadata": {
    "collapsed": false,
    "pycharm": {
     "name": "#%% md\n"
    }
   }
  },
  {
   "cell_type": "code",
   "execution_count": 7,
   "outputs": [
    {
     "data": {
      "text/plain": "    GenA  GenB                          Weight\n0      8    55  {'weight': 0.7089923579941719}\n1     43    52  {'weight': 0.7155115996731671}\n2     43    55  {'weight': 0.7462321210562424}\n3     47    61  {'weight': 0.7041228657045737}\n4     47    66  {'weight': 0.7199583800134501}\n5     52    66  {'weight': 0.7473299128183515}\n6     52    74  {'weight': 0.7180753552255581}\n7     55    57  {'weight': 0.7228738030320297}\n8     55    74  {'weight': 0.7277715940754805}\n9     57    60  {'weight': 0.7175741808144404}\n10    58    61  {'weight': 0.7014477061458867}\n11    58    73  {'weight': 0.7163674643506253}\n12    61    65  {'weight': 0.7111088554638296}\n13    61    66  {'weight': 0.7131274260858367}\n14    65    79  {'weight': 0.7137420607936733}\n15    66    79  {'weight': 0.7100447929147558}\n16    73    79  {'weight': 0.7236906605101965}\n17    73    81  {'weight': 0.7092046155498068}\n18    79    97  {'weight': 0.7162801980714864}\n19   108   109  {'weight': 0.7255571737129762}",
      "text/html": "<div>\n<style scoped>\n    .dataframe tbody tr th:only-of-type {\n        vertical-align: middle;\n    }\n\n    .dataframe tbody tr th {\n        vertical-align: top;\n    }\n\n    .dataframe thead th {\n        text-align: right;\n    }\n</style>\n<table border=\"1\" class=\"dataframe\">\n  <thead>\n    <tr style=\"text-align: right;\">\n      <th></th>\n      <th>GenA</th>\n      <th>GenB</th>\n      <th>Weight</th>\n    </tr>\n  </thead>\n  <tbody>\n    <tr>\n      <th>0</th>\n      <td>8</td>\n      <td>55</td>\n      <td>{'weight': 0.7089923579941719}</td>\n    </tr>\n    <tr>\n      <th>1</th>\n      <td>43</td>\n      <td>52</td>\n      <td>{'weight': 0.7155115996731671}</td>\n    </tr>\n    <tr>\n      <th>2</th>\n      <td>43</td>\n      <td>55</td>\n      <td>{'weight': 0.7462321210562424}</td>\n    </tr>\n    <tr>\n      <th>3</th>\n      <td>47</td>\n      <td>61</td>\n      <td>{'weight': 0.7041228657045737}</td>\n    </tr>\n    <tr>\n      <th>4</th>\n      <td>47</td>\n      <td>66</td>\n      <td>{'weight': 0.7199583800134501}</td>\n    </tr>\n    <tr>\n      <th>5</th>\n      <td>52</td>\n      <td>66</td>\n      <td>{'weight': 0.7473299128183515}</td>\n    </tr>\n    <tr>\n      <th>6</th>\n      <td>52</td>\n      <td>74</td>\n      <td>{'weight': 0.7180753552255581}</td>\n    </tr>\n    <tr>\n      <th>7</th>\n      <td>55</td>\n      <td>57</td>\n      <td>{'weight': 0.7228738030320297}</td>\n    </tr>\n    <tr>\n      <th>8</th>\n      <td>55</td>\n      <td>74</td>\n      <td>{'weight': 0.7277715940754805}</td>\n    </tr>\n    <tr>\n      <th>9</th>\n      <td>57</td>\n      <td>60</td>\n      <td>{'weight': 0.7175741808144404}</td>\n    </tr>\n    <tr>\n      <th>10</th>\n      <td>58</td>\n      <td>61</td>\n      <td>{'weight': 0.7014477061458867}</td>\n    </tr>\n    <tr>\n      <th>11</th>\n      <td>58</td>\n      <td>73</td>\n      <td>{'weight': 0.7163674643506253}</td>\n    </tr>\n    <tr>\n      <th>12</th>\n      <td>61</td>\n      <td>65</td>\n      <td>{'weight': 0.7111088554638296}</td>\n    </tr>\n    <tr>\n      <th>13</th>\n      <td>61</td>\n      <td>66</td>\n      <td>{'weight': 0.7131274260858367}</td>\n    </tr>\n    <tr>\n      <th>14</th>\n      <td>65</td>\n      <td>79</td>\n      <td>{'weight': 0.7137420607936733}</td>\n    </tr>\n    <tr>\n      <th>15</th>\n      <td>66</td>\n      <td>79</td>\n      <td>{'weight': 0.7100447929147558}</td>\n    </tr>\n    <tr>\n      <th>16</th>\n      <td>73</td>\n      <td>79</td>\n      <td>{'weight': 0.7236906605101965}</td>\n    </tr>\n    <tr>\n      <th>17</th>\n      <td>73</td>\n      <td>81</td>\n      <td>{'weight': 0.7092046155498068}</td>\n    </tr>\n    <tr>\n      <th>18</th>\n      <td>79</td>\n      <td>97</td>\n      <td>{'weight': 0.7162801980714864}</td>\n    </tr>\n    <tr>\n      <th>19</th>\n      <td>108</td>\n      <td>109</td>\n      <td>{'weight': 0.7255571737129762}</td>\n    </tr>\n  </tbody>\n</table>\n</div>"
     },
     "execution_count": 7,
     "metadata": {},
     "output_type": "execute_result"
    }
   ],
   "source": [
    "aristas = peg.engnet_1_0()\n",
    "newhead = [\"GenA\", \"GenB\", \"Weight\"]\n",
    "pd.DataFrame(aristas, columns=newhead)"
   ],
   "metadata": {
    "collapsed": false,
    "pycharm": {
     "name": "#%%\n"
    }
   }
  },
  {
   "cell_type": "markdown",
   "source": [
    "Hemos obtenido dichas aristas y un peso basado en la correlación media de los tests positivos\n",
    "\n",
    "##"
   ],
   "metadata": {
    "collapsed": false,
    "pycharm": {
     "name": "#%% md\n"
    }
   }
  },
  {
   "cell_type": "code",
   "execution_count": null,
   "outputs": [],
   "source": [],
   "metadata": {
    "collapsed": false,
    "pycharm": {
     "name": "#%%\n"
    }
   }
  }
 ],
 "metadata": {
  "kernelspec": {
   "display_name": "Python 3 (ipykernel)",
   "language": "python",
   "name": "python3"
  },
  "language_info": {
   "codemirror_mode": {
    "name": "ipython",
    "version": 3
   },
   "file_extension": ".py",
   "mimetype": "text/x-python",
   "name": "python",
   "nbconvert_exporter": "python",
   "pygments_lexer": "ipython3",
   "version": "3.8.10"
  }
 },
 "nbformat": 4,
 "nbformat_minor": 5
}