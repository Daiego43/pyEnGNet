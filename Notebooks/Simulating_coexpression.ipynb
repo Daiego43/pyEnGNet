{
 "cells": [
  {
   "cell_type": "code",
   "execution_count": 36,
   "outputs": [],
   "source": [
    "import math\n",
    "import numpy as np\n",
    "import pandas as pd\n",
    "import seaborn as sns\n",
    "\n",
    "def generate_adjacency_matrix(N):\n",
    "    # n_genes = 10\n",
    "    a = np.random.randint(0, 3, (N, N))\n",
    "    a[np.tril_indices(a.shape[0], -1)] = a.T[np.tril_indices(a.shape[0], -1)]\n",
    "    b = np.fliplr(a)\n",
    "    b[np.tril_indices(b.shape[0], -1)] = b.T[np.tril_indices(a.shape[0], -1)]\n",
    "\n",
    "    b[b == 2] = -1\n",
    "    np.fill_diagonal(b, 0)  # Remove self loops\n",
    "    return b\n",
    "\n",
    "def get_vector_that_provides_corr(rho, x1):\n",
    "    n = x1.shape[0]  # length of vector, the number of samples for the same gene that we define in n_cols\n",
    "    # ho = 0.6  # desired correlation = cos(angle)\n",
    "    theta = math.acos(rho)  # corresponding angle\n",
    "    x2 = np.random.normal(2, 0.5, n)  # new random data\n",
    "    X = np.c_[x1, x2]  # matrix\n",
    "    Xctr = pd.DataFrame(X).apply(lambda x: x - x.mean()).to_numpy()  # centered columns (mean 0)\n",
    "    Id = np.diag(np.repeat(1, n))  # identity matrix\n",
    "    Q = np.linalg.qr(Xctr[:, 0].reshape(n, 1))[0].flatten()  # QR-decomposition, just matrix Q\n",
    "    P = np.outer(Q, Q)  # projection onto space defined by x1\n",
    "    x2o = np.dot((Id - P), Xctr[:, 1])  # x2ctr made orthogonal to x1ctr\n",
    "    Xc2 = np.c_[Xctr[:, 0], x2o]  # bind to matrix\n",
    "    Y = np.dot(Xc2, np.diag(1 / np.sqrt(np.sum(np.power(Xc2, 2), axis=0))))  # scale columns to length 1\n",
    "    x = Y[:, 1] + (1 / np.tan(theta)) * Y[:, 0]\n",
    "    x_norm = (x - x.mean()) / (x.std())\n",
    "    return x_norm\n",
    "\n",
    "\n",
    "def simulate_expression_from_adjacency(adjamat, n_samples=100, simdata_noise=0.1):\n",
    "    # noise = 0.5 # .1 strong correlation, 3 weak correlation\n",
    "    # random initialize data matrix\n",
    "    # n_samples = 40 # number of samples: 40 so we later split into 20 cases and 20 controls\n",
    "    n_rows = adjamat.shape[0]  # number of genes\n",
    "    mu, sigma = 1, 1  # mean and standard deviation\n",
    "    dataset = np.random.normal(mu, sigma, n_samples * n_rows).reshape(n_rows, n_samples)\n",
    "    already_modified = np.repeat(0, n_rows)  # N=n1+n2 genes\n",
    "    already_modified[0] = 1  # leave the first gene alone, base case\n",
    "\n",
    "    for i in range(adjamat.shape[1]):\n",
    "        for j in range(i + 1, adjamat.shape[1]):\n",
    "            # print(f'Considering row: {i}, column: {j} of A')\n",
    "            if (adjamat[i, j] == 1) & (already_modified[j] == 0):\n",
    "                # print(i,j)\n",
    "                # print(A[i,j])\n",
    "                dataset[j, :] = dataset[i, :] +  np.random.normal(0, simdata_noise, dataset.shape[1])\n",
    "                already_modified[j] = 1\n",
    "            elif (adjamat[i, j] == -1) & (already_modified[j] == 0):\n",
    "                # print(i,j)\n",
    "                # print(A[i,j])\n",
    "                dataset[j, :] = -dataset[i, :] + np.random.normal(0, simdata_noise, dataset.shape[1])\n",
    "                already_modified[j] = 1\n",
    "            elif (already_modified[j] == 1) & (already_modified[i] == 0):\n",
    "                #if j is  modified, we accordingly modify i. If i has been modified, we do nothing.\n",
    "                dataset[i,:] = dataset[j,:] + np.random.normal(0, noise, dataset.shape[1])\n",
    "                already_modified[i] = 1\n",
    "    ds = pd.DataFrame(dataset)\n",
    "    ds.columns = 'sample_' + ds.columns.astype(str)\n",
    "    ds.index = 'gene_' + ds.index.astype(str)\n",
    "    return ds\n",
    "\n",
    "def ground_truth_from_adjamat(adjamat):\n",
    "    genenames = ['gene_' + s for s in list(str(i) for i in range(n_genes))]\n",
    "\n",
    "    gene_A = []\n",
    "    gene_B = []\n",
    "    rels = []\n",
    "    for i in range(adjamat.shape[1]):\n",
    "        for j in range(i + 1, adjamat.shape[1]):\n",
    "            if adjamat[i][j] != 0:\n",
    "                #print(i, j, adjamat[i, j])\n",
    "                gene_A.append(i)\n",
    "                gene_B.append(j)\n",
    "                rels.append(np.where(adjamat[i, j] > 0, \"[+]\", \"[-]\"))\n",
    "\n",
    "    pairs = pd.DataFrame({'gene_A': gene_A, 'gene_B': gene_B, 'correlation': rels})\n",
    "    mygenedict = dict(zip(range(adjamat.shape[1]), genenames))\n",
    "    pairs.gene_A = pairs.gene_A.map(mygenedict)\n",
    "    pairs.gene_B = pairs.gene_B.map(mygenedict)\n",
    "    return pairs"
   ],
   "metadata": {
    "collapsed": false,
    "pycharm": {
     "name": "#%%\n"
    }
   }
  },
  {
   "cell_type": "code",
   "execution_count": 48,
   "outputs": [
    {
     "name": "stdout",
     "output_type": "stream",
     "text": [
      "[[ 0  1  0 -1  1]\n",
      " [ 1  0  1  1 -1]\n",
      " [ 0  1  0  1  0]\n",
      " [-1  1  1  0  1]\n",
      " [ 1 -1  0  1  0]]\n",
      "        sample_0  sample_1  sample_2  sample_3  sample_4  sample_5  sample_6  \\\n",
      "gene_0  0.320005  0.921133  0.075221 -0.537335  1.173093  0.245979  0.836458   \n",
      "gene_1  1.111054 -0.240331 -0.363439  0.071534  1.003835  1.823750  0.373152   \n",
      "gene_2  1.305643 -0.013145 -1.083192  0.437532  1.448827  0.945740  0.223769   \n",
      "gene_3 -2.106391 -0.127949 -1.371708  0.298765 -1.368762 -0.130453  0.167736   \n",
      "gene_4  0.433421  2.334904 -0.660399 -0.550654  0.273211  1.361355  1.156061   \n",
      "\n",
      "        sample_7  sample_8  sample_9  ...  sample_40  sample_41  sample_42  \\\n",
      "gene_0  1.246818 -0.308439  2.407880  ...   0.387203   1.367454   2.190392   \n",
      "gene_1 -0.175146  0.276175  3.143983  ...   0.565697   2.082885   1.888980   \n",
      "gene_2 -0.173303  0.929935  2.354171  ...   0.264990   0.886275   2.323589   \n",
      "gene_3 -1.946284 -1.390924 -0.543058  ...   1.075741  -1.615698  -2.024637   \n",
      "gene_4  0.027120 -0.862065  1.120548  ...   0.885450   1.817365   0.970419   \n",
      "\n",
      "        sample_43  sample_44  sample_45  sample_46  sample_47  sample_48  \\\n",
      "gene_0   0.520255   1.182687   2.757673   0.119555   0.212627   1.588480   \n",
      "gene_1   0.397622   0.947338   3.508188  -0.706786  -0.331816   1.660118   \n",
      "gene_2   1.259919   0.408632   3.948100  -1.768634  -1.115166   1.980922   \n",
      "gene_3  -1.469146  -1.242044  -1.979118  -0.777666  -1.335507  -0.671994   \n",
      "gene_4   1.720898   0.886102   4.687060   1.278055  -0.227614   3.462292   \n",
      "\n",
      "        sample_49  \n",
      "gene_0   1.488045  \n",
      "gene_1   0.873905  \n",
      "gene_2   1.339173  \n",
      "gene_3  -1.759320  \n",
      "gene_4   2.277875  \n",
      "\n",
      "[5 rows x 50 columns]\n",
      "   gene_A  gene_B correlation\n",
      "0  gene_0  gene_1         [+]\n",
      "1  gene_0  gene_3         [-]\n",
      "2  gene_0  gene_4         [+]\n",
      "3  gene_1  gene_2         [+]\n",
      "4  gene_1  gene_3         [+]\n",
      "5  gene_1  gene_4         [-]\n",
      "6  gene_2  gene_3         [+]\n",
      "7  gene_3  gene_4         [+]\n"
     ]
    },
    {
     "data": {
      "text/plain": "<AxesSubplot:>"
     },
     "execution_count": 48,
     "metadata": {},
     "output_type": "execute_result"
    },
    {
     "data": {
      "text/plain": "<Figure size 432x288 with 2 Axes>",
      "image/png": "[encoded data removed]"
     },
     "metadata": {
      "needs_background": "light"
     },
     "output_type": "display_data"
    }
   ],
   "source": [
    "n_genes = 5\n",
    "adjamat = generate_adjacency_matrix(N=n_genes)\n",
    "print(adjamat)\n",
    "ds = simulate_expression_from_adjacency(adjamat=adjamat, n_samples=50, simdata_noise=0.8)\n",
    "groundtruth = ground_truth_from_adjamat(adjamat)\n",
    "#ds.to_csv('dataset_'+ str(n_genes) + '.csv')\n",
    "print(ds)\n",
    "print(groundtruth)\n",
    "sns.heatmap(ds.T.corr())"
   ],
   "metadata": {
    "collapsed": false,
    "pycharm": {
     "name": "#%%\n"
    }
   }
  }
 ],
 "metadata": {
  "kernelspec": {
   "display_name": "Python 3",
   "language": "python",
   "name": "python3"
  },
  "language_info": {
   "codemirror_mode": {
    "name": "ipython",
    "version": 2
   },
   "file_extension": ".py",
   "mimetype": "text/x-python",
   "name": "python",
   "nbconvert_exporter": "python",
   "pygments_lexer": "ipython2",
   "version": "2.7.6"
  }
 },
 "nbformat": 4,
 "nbformat_minor": 0
}