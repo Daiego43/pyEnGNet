{
 "cells": [
  {
   "cell_type": "code",
   "execution_count": 1,
   "metadata": {
    "pycharm": {
     "name": "#%%\n"
    }
   },
   "outputs": [],
   "source": [
    "import math\n",
    "import numpy as np\n",
    "import pandas as pd\n",
    "import seaborn as sns\n",
    "from tqdm import tqdm\n",
    "\n",
    "def generate_adjacency_matrix(N):\n",
    "    # n_genes = 10\n",
    "    a = np.random.randint(0, 3, (N, N))\n",
    "    a[np.tril_indices(a.shape[0], -1)] = a.T[np.tril_indices(a.shape[0], -1)]\n",
    "    b = np.fliplr(a)\n",
    "    b[np.tril_indices(b.shape[0], -1)] = b.T[np.tril_indices(a.shape[0], -1)]\n",
    "\n",
    "    b[b == 2] = -1\n",
    "    np.fill_diagonal(b, 0)  # Remove self loops\n",
    "    return b\n",
    "\n",
    "def get_vector_that_provides_corr(rho, x1):\n",
    "    n = x1.shape[0]  # length of vector, the number of samples for the same gene that we define in n_cols\n",
    "    # ho = 0.6  # desired correlation = cos(angle)\n",
    "    theta = math.acos(rho)  # corresponding angle\n",
    "    x2 = np.random.normal(2, 0.5, n)  # new random data\n",
    "    X = np.c_[x1, x2]  # matrix\n",
    "    Xctr = pd.DataFrame(X).apply(lambda x: x - x.mean()).to_numpy()  # centered columns (mean 0)\n",
    "    Id = np.diag(np.repeat(1, n))  # identity matrix\n",
    "    Q = np.linalg.qr(Xctr[:, 0].reshape(n, 1))[0].flatten()  # QR-decomposition, just matrix Q\n",
    "    P = np.outer(Q, Q)  # projection onto space defined by x1\n",
    "    x2o = np.dot((Id - P), Xctr[:, 1])  # x2ctr made orthogonal to x1ctr\n",
    "    Xc2 = np.c_[Xctr[:, 0], x2o]  # bind to matrix\n",
    "    Y = np.dot(Xc2, np.diag(1 / np.sqrt(np.sum(np.power(Xc2, 2), axis=0))))  # scale columns to length 1\n",
    "    x = Y[:, 1] + (1 / np.tan(theta)) * Y[:, 0]\n",
    "    x_norm = (x - x.mean()) / (x.std())\n",
    "    return x_norm\n",
    "\n",
    "\n",
    "def simulate_expression_from_adjacency(adjamat, n_samples=100, simdata_noise=0.1):\n",
    "    # noise = 0.5 # .1 strong correlation, 3 weak correlation\n",
    "    # random initialize data matrix\n",
    "    # n_samples = 40 # number of samples: 40 so we later split into 20 cases and 20 controls\n",
    "    n_rows = adjamat.shape[0]  # number of genes\n",
    "    mu, sigma = 1, 1  # mean and standard deviation\n",
    "    dataset = np.random.normal(mu, sigma, n_samples * n_rows).reshape(n_rows, n_samples)\n",
    "    already_modified = np.repeat(0, n_rows)  # N=n1+n2 genes\n",
    "    already_modified[0] = 1  # leave the first gene alone, base case\n",
    "\n",
    "    for i in range(adjamat.shape[1]):\n",
    "        for j in range(i + 1, adjamat.shape[1]):\n",
    "            # print(f'Considering row: {i}, column: {j} of A')\n",
    "            if (adjamat[i, j] == 1) & (already_modified[j] == 0):\n",
    "                # print(i,j)\n",
    "                # print(A[i,j])\n",
    "                dataset[j, :] = dataset[i, :] +  np.random.normal(0, simdata_noise, dataset.shape[1])\n",
    "                already_modified[j] = 1\n",
    "            elif (adjamat[i, j] == -1) & (already_modified[j] == 0):\n",
    "                # print(i,j)\n",
    "                # print(A[i,j])\n",
    "                dataset[j, :] = -dataset[i, :] + np.random.normal(0, simdata_noise, dataset.shape[1])\n",
    "                already_modified[j] = 1\n",
    "            elif (already_modified[j] == 1) & (already_modified[i] == 0):\n",
    "                #if j is  modified, we accordingly modify i. If i has been modified, we do nothing.\n",
    "                dataset[i,:] = dataset[j,:] + np.random.normal(0, simdata_noise, dataset.shape[1])\n",
    "                already_modified[i] = 1\n",
    "    ds = pd.DataFrame(dataset)\n",
    "    ds.columns = 'sample_' + ds.columns.astype(str)\n",
    "    ds.index = 'gene_' + ds.index.astype(str)\n",
    "    return ds\n",
    "\n",
    "def ground_truth_from_adjamat(adjamat):\n",
    "    genenames = ['gene_' + s for s in list(str(i) for i in range(n_genes))]\n",
    "\n",
    "    gene_A = []\n",
    "    gene_B = []\n",
    "    rels = []\n",
    "    for i in range(adjamat.shape[1]):\n",
    "        for j in range(i + 1, adjamat.shape[1]):\n",
    "            if adjamat[i][j] != 0:\n",
    "                #print(i, j, adjamat[i, j])\n",
    "                gene_A.append(i)\n",
    "                gene_B.append(j)\n",
    "                rels.append(np.where(adjamat[i, j] > 0, \"[+]\", \"[-]\"))\n",
    "\n",
    "    pairs = pd.DataFrame({'gene_A': gene_A, 'gene_B': gene_B, 'correlation': rels})\n",
    "    mygenedict = dict(zip(range(adjamat.shape[1]), genenames))\n",
    "    pairs.gene_A = pairs.gene_A.map(mygenedict)\n",
    "    pairs.gene_B = pairs.gene_B.map(mygenedict)\n",
    "    return pairs"
   ]
  },
  {
   "cell_type": "markdown",
   "metadata": {},
   "source": [
    "Write random matrix of dimensions n_rows (genes) x n_samples (columns)"
   ]
  },
  {
   "cell_type": "code",
   "execution_count": 7,
   "metadata": {},
   "outputs": [
    {
     "name": "stdout",
     "output_type": "stream",
     "text": [
      "['sample_0', 'sample_1', 'sample_2', 'sample_3', 'sample_4', 'sample_5', 'sample_6', 'sample_7', 'sample_8', 'sample_9', 'sample_10', 'sample_11', 'sample_12', 'sample_13', 'sample_14', 'sample_15', 'sample_16', 'sample_17', 'sample_18', 'sample_19', 'sample_20', 'sample_21', 'sample_22', 'sample_23', 'sample_24'] Writing random distribution of genes\n"
     ]
    },
    {
     "name": "stderr",
     "output_type": "stream",
     "text": [
      "100%|██████████| 1000/1000 [00:00<00:00, 25327.77it/s]\n"
     ]
    }
   ],
   "source": [
    "n_samples = 25\n",
    "n_rows = 1000\n",
    "mu, sigma = 1, 1  # mean and standard deviation\n",
    "genenames = ['sample_' + s for s in list(str(i) for i in range(n_samples))]\n",
    "print(genenames,sep=\" \")\n",
    "\n",
    "print('Writing random distribution of genes')\n",
    "with open ('dataset_1000_25.csv', 'a+') as f:\n",
    "    f.write('gene,'+str(genenames)+'\\n')\n",
    "    for row in tqdm(range(n_rows)):\n",
    "        #print(row)\n",
    "        vector = np.random.normal(mu, sigma, n_samples * 1)\n",
    "        f.write(\",\".join(str(x) for x in vector)+'\\n')\n",
    "    f.close()"
   ]
  },
  {
   "cell_type": "markdown",
   "metadata": {},
   "source": [
    "Generate co-expresion"
   ]
  },
  {
   "cell_type": "code",
   "execution_count": 9,
   "metadata": {
    "pycharm": {
     "is_executing": true,
     "name": "#%%\n"
    }
   },
   "outputs": [
    {
     "name": "stdout",
     "output_type": "stream",
     "text": [
      "[[ 0  1 -1  0  1  0 -1 -1 -1 -1]\n",
      " [ 1  0  0 -1  0 -1  1  1 -1 -1]\n",
      " [-1  0  0 -1  1  1 -1 -1  1 -1]\n",
      " [ 0 -1 -1  0  1  1  0 -1  1 -1]\n",
      " [ 1  0  1  1  0  1  1  1 -1  0]\n",
      " [ 0 -1  1  1  1  0  1  1  0  1]\n",
      " [-1  1 -1  0  1  1  0 -1 -1  0]\n",
      " [-1  1 -1 -1  1  1 -1  0  0 -1]\n",
      " [-1 -1  1  1 -1  0 -1  0  0  1]\n",
      " [-1 -1 -1 -1  0  1  0 -1  1  0]]\n",
      "        sample_0  sample_1  sample_2  sample_3  sample_4  sample_5  sample_6  \\\n",
      "gene_0  2.328109  1.595606  1.604537  0.567283 -1.149528  0.689494  2.469029   \n",
      "gene_1  3.649705  1.965412  2.480272  0.453677 -1.235652  0.366235  3.927364   \n",
      "gene_2 -2.796483 -3.379403 -0.772559 -1.084380  1.778738 -1.176358 -3.813423   \n",
      "gene_3 -4.194263 -2.698615 -2.987884  0.174241  2.290939 -1.404236 -4.190875   \n",
      "gene_4  2.118637  3.652088  1.235348  0.483300 -1.309213  1.437647  1.781329   \n",
      "\n",
      "        sample_7  sample_8  sample_9  ...  sample_40  sample_41  sample_42  \\\n",
      "gene_0  0.644195  1.085666  0.480111  ...   1.003602   1.921016   1.573083   \n",
      "gene_1 -1.103038  3.002254 -0.682129  ...   0.578133   2.618385   0.995090   \n",
      "gene_2  0.362573 -1.204755  0.246195  ...   0.115366  -1.608558  -1.579828   \n",
      "gene_3 -0.727497 -3.480414  0.529448  ...  -0.196332  -2.445904  -2.546051   \n",
      "gene_4  0.780469  1.132894  0.027791  ...   1.331136   1.036409   2.411529   \n",
      "\n",
      "        sample_43  sample_44  sample_45  sample_46  sample_47  sample_48  \\\n",
      "gene_0   0.733937   2.377640   1.125161   0.025369   1.559823   0.700414   \n",
      "gene_1   1.283782   2.269024   1.261869  -2.064587   1.540910   0.308853   \n",
      "gene_2  -1.109405  -2.538087  -0.499659  -1.675817  -1.477094  -0.524709   \n",
      "gene_3  -1.195270  -0.816778  -2.260592   2.659050  -1.574113  -0.085784   \n",
      "gene_4  -0.139246   0.581173   1.331371   0.219127   0.817580   0.615512   \n",
      "\n",
      "        sample_49  \n",
      "gene_0   1.046098  \n",
      "gene_1   0.499703  \n",
      "gene_2  -0.689794  \n",
      "gene_3  -1.095615  \n",
      "gene_4   1.506428  \n",
      "\n",
      "[5 rows x 50 columns]\n",
      "    gene_A  gene_B correlation\n",
      "0   gene_0  gene_1         [+]\n",
      "1   gene_0  gene_2         [-]\n",
      "2   gene_0  gene_4         [+]\n",
      "3   gene_0  gene_6         [-]\n",
      "4   gene_0  gene_7         [-]\n",
      "5   gene_0  gene_8         [-]\n",
      "6   gene_0  gene_9         [-]\n",
      "7   gene_1  gene_3         [-]\n",
      "8   gene_1  gene_5         [-]\n",
      "9   gene_1  gene_6         [+]\n",
      "10  gene_1  gene_7         [+]\n",
      "11  gene_1  gene_8         [-]\n",
      "12  gene_1  gene_9         [-]\n",
      "13  gene_2  gene_3         [-]\n",
      "14  gene_2  gene_4         [+]\n",
      "15  gene_2  gene_5         [+]\n",
      "16  gene_2  gene_6         [-]\n",
      "17  gene_2  gene_7         [-]\n",
      "18  gene_2  gene_8         [+]\n",
      "19  gene_2  gene_9         [-]\n",
      "20  gene_3  gene_4         [+]\n",
      "21  gene_3  gene_5         [+]\n",
      "22  gene_3  gene_7         [-]\n",
      "23  gene_3  gene_8         [+]\n",
      "24  gene_3  gene_9         [-]\n",
      "25  gene_4  gene_5         [+]\n",
      "26  gene_4  gene_6         [+]\n",
      "27  gene_4  gene_7         [+]\n",
      "28  gene_4  gene_8         [-]\n",
      "29  gene_5  gene_6         [+]\n",
      "30  gene_5  gene_7         [+]\n",
      "31  gene_5  gene_9         [+]\n",
      "32  gene_6  gene_7         [-]\n",
      "33  gene_6  gene_8         [-]\n",
      "34  gene_7  gene_9         [-]\n",
      "35  gene_8  gene_9         [+]\n"
     ]
    },
    {
     "data": {
      "text/plain": [
       "<AxesSubplot:>"
      ]
     },
     "execution_count": 9,
     "metadata": {},
     "output_type": "execute_result"
    },
    {
     "data": {
      "image/png": "[encoded data removed]",
      "text/plain": [
       "<Figure size 432x288 with 2 Axes>"
      ]
     },
     "metadata": {
      "needs_background": "light"
     },
     "output_type": "display_data"
    }
   ],
   "source": [
    "n_genes = 10\n",
    "adjamat = generate_adjacency_matrix(N=n_genes)\n",
    "print(adjamat)\n",
    "ds = simulate_expression_from_adjacency(adjamat=adjamat, n_samples=50, simdata_noise=0.8)\n",
    "groundtruth = ground_truth_from_adjamat(adjamat)\n",
    "#ds.to_csv('dataset_'+ str(n_genes) + '.csv')\n",
    "print(ds.head())\n",
    "print(groundtruth)\n",
    "sns.heatmap(ds.T.corr())"
   ]
  }
 ],
 "metadata": {
  "kernelspec": {
   "display_name": "Python 3.10.4 64-bit",
   "language": "python",
   "name": "python3"
  },
  "language_info": {
   "codemirror_mode": {
    "name": "ipython",
    "version": 3
   },
   "file_extension": ".py",
   "mimetype": "text/x-python",
   "name": "python",
   "nbconvert_exporter": "python",
   "pygments_lexer": "ipython3",
   "version": "3.10.4"
  },
  "vscode": {
   "interpreter": {
    "hash": "916dbcbb3f70747c44a77c7bcd40155683ae19c65e1c03b4aa3499c5328201f1"
   }
  }
 },
 "nbformat": 4,
 "nbformat_minor": 1
}
