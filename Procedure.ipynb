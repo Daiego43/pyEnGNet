{
 "cells": [
  {
   "cell_type": "markdown",
   "id": "f0d6e045-6b6b-43ed-b04d-635f042e9217",
   "metadata": {},
   "source": [
    "# pyEnGNet code explanation"
   ]
  },
  {
   "cell_type": "markdown",
   "id": "c5822b16-caea-45f9-a6a7-b58186bae229",
   "metadata": {},
   "source": [
    "## Imports"
   ]
  },
  {
   "cell_type": "code",
   "execution_count": 4,
   "id": "52fa22ae-06a0-4169-8439-fda96be4834e",
   "metadata": {},
   "outputs": [],
   "source": [
    "import pandas as pd\n",
    "import scipy.stats as scp\n",
    "import numpy as np\n",
    "from tqdm import tqdm\n",
    "\n",
    "from pyEnGNet import *"
   ]
  },
  {
   "cell_type": "code",
   "execution_count": 5,
   "id": "6cd3e9fb-250b-4b0b-9085-d1eaf50af0e3",
   "metadata": {},
   "outputs": [
    {
     "name": "stdout",
     "output_type": "stream",
     "text": [
      "PyEnGNet Object with shape (10,20)\n"
     ]
    }
   ],
   "source": [
    "peg = PyEnGNet(extract_nparray(\"datasample_shittys.csv\"))\n",
    "print(peg)"
   ]
  },
  {
   "cell_type": "markdown",
   "id": "1e27be8c-82fd-4c72-b51f-33f4806c291b",
   "metadata": {},
   "source": [
    "Our dataset is now ready to be used and apply correlation techniques"
   ]
  },
  {
   "cell_type": "markdown",
   "id": "c0faae5b-d366-4983-8e6f-d54940d7536f",
   "metadata": {},
   "source": [
    "## Calculate Spearman correlation"
   ]
  },
  {
   "cell_type": "code",
   "execution_count": 6,
   "id": "f6afee00-33c7-475d-a81a-72b0430956dc",
   "metadata": {},
   "outputs": [
    {
     "name": "stderr",
     "output_type": "stream",
     "text": [
      "100%|██████████| 10/10 [00:00<00:00, 288.28it/s]\n"
     ]
    }
   ],
   "source": [
    "spearmanc, spearmanpv = peg.spearman_test()"
   ]
  },
  {
   "cell_type": "markdown",
   "id": "65d4dc8e-0b94-4eb0-977a-ec8d05ed85a5",
   "metadata": {},
   "source": [
    "### Spearman correlation matrix\n",
    "This for loop should be parallelized"
   ]
  },
  {
   "cell_type": "code",
   "execution_count": 7,
   "id": "a5c96aa1-3b56-458e-994b-a3049996e227",
   "metadata": {},
   "outputs": [
    {
     "data": {
      "text/plain": "array([[ 1.        ,  0.02857143,  0.2481203 ,  0.17894737,  0.10676692,\n        -0.18646617, -0.39398496, -0.16541353,  0.18796992, -0.35037594],\n       [ 0.02857143,  1.        , -0.0481203 , -0.41052632,  0.60601504,\n        -0.62255639,  0.13383459, -0.07969925, -0.26315789, -0.08421053],\n       [ 0.2481203 , -0.0481203 ,  1.        ,  0.14285714,  0.11428571,\n        -0.37293233, -0.21503759,  0.23458647, -0.24962406,  0.07218045],\n       [ 0.17894737, -0.41052632,  0.14285714,  1.        , -0.5112782 ,\n         0.22406015, -0.46315789, -0.35037594,  0.18947368, -0.30676692],\n       [ 0.10676692,  0.60601504,  0.11428571, -0.5112782 ,  1.        ,\n        -0.32030075,  0.18947368,  0.21052632, -0.24210526,  0.03157895],\n       [-0.18646617, -0.62255639, -0.37293233,  0.22406015, -0.32030075,\n         1.        ,  0.07368421,  0.04210526,  0.40150376,  0.18646617],\n       [-0.39398496,  0.13383459, -0.21503759, -0.46315789,  0.18947368,\n         0.07368421,  1.        ,  0.33834586, -0.16842105,  0.01654135],\n       [-0.16541353, -0.07969925,  0.23458647, -0.35037594,  0.21052632,\n         0.04210526,  0.33834586,  1.        ,  0.00451128,  0.30225564],\n       [ 0.18796992, -0.26315789, -0.24962406,  0.18947368, -0.24210526,\n         0.40150376, -0.16842105,  0.00451128,  1.        ,  0.26616541],\n       [-0.35037594, -0.08421053,  0.07218045, -0.30676692,  0.03157895,\n         0.18646617,  0.01654135,  0.30225564,  0.26616541,  1.        ]])"
     },
     "execution_count": 7,
     "metadata": {},
     "output_type": "execute_result"
    }
   ],
   "source": [
    "spearmanc"
   ]
  },
  {
   "cell_type": "markdown",
   "id": "c2039263-b6df-41e9-b00e-c6426fcc8f5b",
   "metadata": {},
   "source": [
    "### Spearman pvalues matrix"
   ]
  },
  {
   "cell_type": "code",
   "execution_count": 8,
   "id": "20942334-6f38-48bd-9ea3-5b129e21a67c",
   "metadata": {},
   "outputs": [
    {
     "data": {
      "text/plain": "          0         1         2         3         4         5         6  \\\n0  0.000000  0.904822  0.291523  0.450325  0.654142  0.431195  0.085646   \n1  0.904822  0.000000  0.840339  0.072187  0.004623  0.003372  0.573756   \n2  0.291523  0.840339  0.000000  0.547950  0.631392  0.105348  0.362574   \n3  0.450325  0.072187  0.547950  0.000000  0.021221  0.342286  0.039725   \n4  0.654142  0.004623  0.631392  0.021221  0.000000  0.168577  0.423665   \n5  0.431195  0.003372  0.105348  0.342286  0.168577  0.000000  0.757529   \n6  0.085646  0.573756  0.362574  0.039725  0.423665  0.757529  0.000000   \n7  0.485838  0.738374  0.319476  0.129894  0.372970  0.860095  0.144526   \n8  0.427421  0.262287  0.288513  0.423665  0.303755  0.079317  0.477829   \n9  0.129894  0.724104  0.762339  0.188323  0.894854  0.431195  0.944817   \n\n          7         8         9  \n0  0.485838  0.427421  0.129894  \n1  0.738374  0.262287  0.724104  \n2  0.319476  0.288513  0.762339  \n3  0.129894  0.423665  0.188323  \n4  0.372970  0.303755  0.894854  \n5  0.860095  0.079317  0.431195  \n6  0.144526  0.477829  0.944817  \n7  0.000000  0.984940  0.195238  \n8  0.984940  0.000000  0.256671  \n9  0.195238  0.256671  0.000000  ",
      "text/html": "<div>\n<style scoped>\n    .dataframe tbody tr th:only-of-type {\n        vertical-align: middle;\n    }\n\n    .dataframe tbody tr th {\n        vertical-align: top;\n    }\n\n    .dataframe thead th {\n        text-align: right;\n    }\n</style>\n<table border=\"1\" class=\"dataframe\">\n  <thead>\n    <tr style=\"text-align: right;\">\n      <th></th>\n      <th>0</th>\n      <th>1</th>\n      <th>2</th>\n      <th>3</th>\n      <th>4</th>\n      <th>5</th>\n      <th>6</th>\n      <th>7</th>\n      <th>8</th>\n      <th>9</th>\n    </tr>\n  </thead>\n  <tbody>\n    <tr>\n      <th>0</th>\n      <td>0.000000</td>\n      <td>0.904822</td>\n      <td>0.291523</td>\n      <td>0.450325</td>\n      <td>0.654142</td>\n      <td>0.431195</td>\n      <td>0.085646</td>\n      <td>0.485838</td>\n      <td>0.427421</td>\n      <td>0.129894</td>\n    </tr>\n    <tr>\n      <th>1</th>\n      <td>0.904822</td>\n      <td>0.000000</td>\n      <td>0.840339</td>\n      <td>0.072187</td>\n      <td>0.004623</td>\n      <td>0.003372</td>\n      <td>0.573756</td>\n      <td>0.738374</td>\n      <td>0.262287</td>\n      <td>0.724104</td>\n    </tr>\n    <tr>\n      <th>2</th>\n      <td>0.291523</td>\n      <td>0.840339</td>\n      <td>0.000000</td>\n      <td>0.547950</td>\n      <td>0.631392</td>\n      <td>0.105348</td>\n      <td>0.362574</td>\n      <td>0.319476</td>\n      <td>0.288513</td>\n      <td>0.762339</td>\n    </tr>\n    <tr>\n      <th>3</th>\n      <td>0.450325</td>\n      <td>0.072187</td>\n      <td>0.547950</td>\n      <td>0.000000</td>\n      <td>0.021221</td>\n      <td>0.342286</td>\n      <td>0.039725</td>\n      <td>0.129894</td>\n      <td>0.423665</td>\n      <td>0.188323</td>\n    </tr>\n    <tr>\n      <th>4</th>\n      <td>0.654142</td>\n      <td>0.004623</td>\n      <td>0.631392</td>\n      <td>0.021221</td>\n      <td>0.000000</td>\n      <td>0.168577</td>\n      <td>0.423665</td>\n      <td>0.372970</td>\n      <td>0.303755</td>\n      <td>0.894854</td>\n    </tr>\n    <tr>\n      <th>5</th>\n      <td>0.431195</td>\n      <td>0.003372</td>\n      <td>0.105348</td>\n      <td>0.342286</td>\n      <td>0.168577</td>\n      <td>0.000000</td>\n      <td>0.757529</td>\n      <td>0.860095</td>\n      <td>0.079317</td>\n      <td>0.431195</td>\n    </tr>\n    <tr>\n      <th>6</th>\n      <td>0.085646</td>\n      <td>0.573756</td>\n      <td>0.362574</td>\n      <td>0.039725</td>\n      <td>0.423665</td>\n      <td>0.757529</td>\n      <td>0.000000</td>\n      <td>0.144526</td>\n      <td>0.477829</td>\n      <td>0.944817</td>\n    </tr>\n    <tr>\n      <th>7</th>\n      <td>0.485838</td>\n      <td>0.738374</td>\n      <td>0.319476</td>\n      <td>0.129894</td>\n      <td>0.372970</td>\n      <td>0.860095</td>\n      <td>0.144526</td>\n      <td>0.000000</td>\n      <td>0.984940</td>\n      <td>0.195238</td>\n    </tr>\n    <tr>\n      <th>8</th>\n      <td>0.427421</td>\n      <td>0.262287</td>\n      <td>0.288513</td>\n      <td>0.423665</td>\n      <td>0.303755</td>\n      <td>0.079317</td>\n      <td>0.477829</td>\n      <td>0.984940</td>\n      <td>0.000000</td>\n      <td>0.256671</td>\n    </tr>\n    <tr>\n      <th>9</th>\n      <td>0.129894</td>\n      <td>0.724104</td>\n      <td>0.762339</td>\n      <td>0.188323</td>\n      <td>0.894854</td>\n      <td>0.431195</td>\n      <td>0.944817</td>\n      <td>0.195238</td>\n      <td>0.256671</td>\n      <td>0.000000</td>\n    </tr>\n  </tbody>\n</table>\n</div>"
     },
     "execution_count": 8,
     "metadata": {},
     "output_type": "execute_result"
    }
   ],
   "source": [
    "pd.DataFrame(spearmanpv)"
   ]
  },
  {
   "cell_type": "markdown",
   "id": "2383c210-82d1-4e7f-926a-be80d9648fa3",
   "metadata": {
    "pycharm": {
     "name": "#%% md\n"
    }
   },
   "source": [
    "## Calculate Kendall's correlation"
   ]
  },
  {
   "cell_type": "code",
   "execution_count": 9,
   "id": "ba0c39a4",
   "metadata": {
    "collapsed": false,
    "jupyter": {
     "outputs_hidden": false
    },
    "pycharm": {
     "name": "#%%\n"
    }
   },
   "outputs": [
    {
     "name": "stderr",
     "output_type": "stream",
     "text": [
      "100%|██████████| 10/10 [00:00<00:00, 325.75it/s]\n"
     ]
    }
   ],
   "source": [
    "kendallc, kendallpv = peg.kendall_test()"
   ]
  },
  {
   "cell_type": "markdown",
   "id": "655f0684",
   "metadata": {
    "pycharm": {
     "name": "#%% md\n"
    }
   },
   "source": [
    "### Kendall's correlation matrix"
   ]
  },
  {
   "cell_type": "code",
   "execution_count": 10,
   "id": "7d42cd32",
   "metadata": {
    "collapsed": false,
    "jupyter": {
     "outputs_hidden": false
    },
    "pycharm": {
     "name": "#%%\n"
    }
   },
   "outputs": [
    {
     "data": {
      "text/plain": "          0         1         2         3         4         5         6  \\\n0  1.000000  0.042105  0.178947  0.136842  0.073684 -0.126316 -0.263158   \n1  0.042105  1.000000 -0.042105 -0.294737  0.484211 -0.494737  0.084211   \n2  0.178947 -0.042105  1.000000  0.073684  0.052632 -0.252632 -0.157895   \n3  0.136842 -0.294737  0.073684  1.000000 -0.368421  0.210526 -0.305263   \n4  0.073684  0.484211  0.052632 -0.368421  1.000000 -0.210526  0.136842   \n5 -0.126316 -0.494737 -0.252632  0.210526 -0.210526  1.000000  0.042105   \n6 -0.263158  0.084211 -0.157895 -0.305263  0.136842  0.042105  1.000000   \n7 -0.115789 -0.063158  0.136842 -0.242105  0.157895  0.063158  0.242105   \n8  0.126316 -0.200000 -0.189474  0.126316 -0.168421  0.263158 -0.084211   \n9 -0.294737 -0.073684  0.042105 -0.252632  0.042105  0.094737 -0.021053   \n\n          7         8         9  \n0 -0.115789  0.126316 -0.294737  \n1 -0.063158 -0.200000 -0.073684  \n2  0.136842 -0.189474  0.042105  \n3 -0.242105  0.126316 -0.252632  \n4  0.157895 -0.168421  0.042105  \n5  0.063158  0.263158  0.094737  \n6  0.242105 -0.084211 -0.021053  \n7  1.000000  0.000000  0.189474  \n8  0.000000  1.000000  0.178947  \n9  0.189474  0.178947  1.000000  ",
      "text/html": "<div>\n<style scoped>\n    .dataframe tbody tr th:only-of-type {\n        vertical-align: middle;\n    }\n\n    .dataframe tbody tr th {\n        vertical-align: top;\n    }\n\n    .dataframe thead th {\n        text-align: right;\n    }\n</style>\n<table border=\"1\" class=\"dataframe\">\n  <thead>\n    <tr style=\"text-align: right;\">\n      <th></th>\n      <th>0</th>\n      <th>1</th>\n      <th>2</th>\n      <th>3</th>\n      <th>4</th>\n      <th>5</th>\n      <th>6</th>\n      <th>7</th>\n      <th>8</th>\n      <th>9</th>\n    </tr>\n  </thead>\n  <tbody>\n    <tr>\n      <th>0</th>\n      <td>1.000000</td>\n      <td>0.042105</td>\n      <td>0.178947</td>\n      <td>0.136842</td>\n      <td>0.073684</td>\n      <td>-0.126316</td>\n      <td>-0.263158</td>\n      <td>-0.115789</td>\n      <td>0.126316</td>\n      <td>-0.294737</td>\n    </tr>\n    <tr>\n      <th>1</th>\n      <td>0.042105</td>\n      <td>1.000000</td>\n      <td>-0.042105</td>\n      <td>-0.294737</td>\n      <td>0.484211</td>\n      <td>-0.494737</td>\n      <td>0.084211</td>\n      <td>-0.063158</td>\n      <td>-0.200000</td>\n      <td>-0.073684</td>\n    </tr>\n    <tr>\n      <th>2</th>\n      <td>0.178947</td>\n      <td>-0.042105</td>\n      <td>1.000000</td>\n      <td>0.073684</td>\n      <td>0.052632</td>\n      <td>-0.252632</td>\n      <td>-0.157895</td>\n      <td>0.136842</td>\n      <td>-0.189474</td>\n      <td>0.042105</td>\n    </tr>\n    <tr>\n      <th>3</th>\n      <td>0.136842</td>\n      <td>-0.294737</td>\n      <td>0.073684</td>\n      <td>1.000000</td>\n      <td>-0.368421</td>\n      <td>0.210526</td>\n      <td>-0.305263</td>\n      <td>-0.242105</td>\n      <td>0.126316</td>\n      <td>-0.252632</td>\n    </tr>\n    <tr>\n      <th>4</th>\n      <td>0.073684</td>\n      <td>0.484211</td>\n      <td>0.052632</td>\n      <td>-0.368421</td>\n      <td>1.000000</td>\n      <td>-0.210526</td>\n      <td>0.136842</td>\n      <td>0.157895</td>\n      <td>-0.168421</td>\n      <td>0.042105</td>\n    </tr>\n    <tr>\n      <th>5</th>\n      <td>-0.126316</td>\n      <td>-0.494737</td>\n      <td>-0.252632</td>\n      <td>0.210526</td>\n      <td>-0.210526</td>\n      <td>1.000000</td>\n      <td>0.042105</td>\n      <td>0.063158</td>\n      <td>0.263158</td>\n      <td>0.094737</td>\n    </tr>\n    <tr>\n      <th>6</th>\n      <td>-0.263158</td>\n      <td>0.084211</td>\n      <td>-0.157895</td>\n      <td>-0.305263</td>\n      <td>0.136842</td>\n      <td>0.042105</td>\n      <td>1.000000</td>\n      <td>0.242105</td>\n      <td>-0.084211</td>\n      <td>-0.021053</td>\n    </tr>\n    <tr>\n      <th>7</th>\n      <td>-0.115789</td>\n      <td>-0.063158</td>\n      <td>0.136842</td>\n      <td>-0.242105</td>\n      <td>0.157895</td>\n      <td>0.063158</td>\n      <td>0.242105</td>\n      <td>1.000000</td>\n      <td>0.000000</td>\n      <td>0.189474</td>\n    </tr>\n    <tr>\n      <th>8</th>\n      <td>0.126316</td>\n      <td>-0.200000</td>\n      <td>-0.189474</td>\n      <td>0.126316</td>\n      <td>-0.168421</td>\n      <td>0.263158</td>\n      <td>-0.084211</td>\n      <td>0.000000</td>\n      <td>1.000000</td>\n      <td>0.178947</td>\n    </tr>\n    <tr>\n      <th>9</th>\n      <td>-0.294737</td>\n      <td>-0.073684</td>\n      <td>0.042105</td>\n      <td>-0.252632</td>\n      <td>0.042105</td>\n      <td>0.094737</td>\n      <td>-0.021053</td>\n      <td>0.189474</td>\n      <td>0.178947</td>\n      <td>1.000000</td>\n    </tr>\n  </tbody>\n</table>\n</div>"
     },
     "execution_count": 10,
     "metadata": {},
     "output_type": "execute_result"
    }
   ],
   "source": [
    "pd.DataFrame(kendallc)"
   ]
  },
  {
   "cell_type": "markdown",
   "id": "62d34280-58de-4909-a1fe-72eba1db5cf6",
   "metadata": {},
   "source": [
    "### Kendall's pvalues matrix"
   ]
  },
  {
   "cell_type": "code",
   "execution_count": 11,
   "id": "9ba86b27",
   "metadata": {
    "collapsed": false,
    "jupyter": {
     "outputs_hidden": false
    },
    "pycharm": {
     "name": "#%%\n"
    }
   },
   "outputs": [
    {
     "data": {
      "text/plain": "              0             1             2             3             4  \\\n0  8.220635e-19  8.226829e-01  2.883782e-01  4.222503e-01  6.771082e-01   \n1  8.226829e-01  8.220635e-19  8.226829e-01  7.402573e-02  2.354944e-03   \n2  2.883782e-01  8.226829e-01  8.220635e-19  6.771082e-01  7.732195e-01   \n3  4.222503e-01  7.402573e-02  6.771082e-01  8.220635e-19  2.373450e-02   \n4  6.771082e-01  2.354944e-03  7.732195e-01  2.373450e-02  8.220635e-19   \n5  4.605238e-01  1.839701e-03  1.284135e-01  2.086284e-01  2.086284e-01   \n6  1.126041e-01  6.307989e-01  3.513949e-01  6.380788e-02  4.222503e-01   \n7  5.006096e-01  7.246362e-01  4.222503e-01  1.458442e-01  3.513949e-01   \n8  4.605238e-01  2.332666e-01  2.598400e-01  4.605238e-01  3.188965e-01   \n9  7.402573e-02  6.771082e-01  8.226829e-01  1.284135e-01  8.226829e-01   \n\n              5             6             7             8             9  \n0  4.605238e-01  1.126041e-01  5.006096e-01  4.605238e-01  7.402573e-02  \n1  1.839701e-03  6.307989e-01  7.246362e-01  2.332666e-01  6.771082e-01  \n2  1.284135e-01  3.513949e-01  4.222503e-01  2.598400e-01  8.226829e-01  \n3  2.086284e-01  6.380788e-02  1.458442e-01  4.605238e-01  1.284135e-01  \n4  2.086284e-01  4.222503e-01  3.513949e-01  3.188965e-01  8.226829e-01  \n5  8.220635e-19  8.226829e-01  7.246362e-01  1.126041e-01  5.858584e-01  \n6  8.226829e-01  8.220635e-19  1.458442e-01  6.307989e-01  9.235023e-01  \n7  7.246362e-01  1.458442e-01  8.220635e-19  1.000000e+00  2.598400e-01  \n8  1.126041e-01  6.307989e-01  1.000000e+00  8.220635e-19  2.883782e-01  \n9  5.858584e-01  9.235023e-01  2.598400e-01  2.883782e-01  8.220635e-19  ",
      "text/html": "<div>\n<style scoped>\n    .dataframe tbody tr th:only-of-type {\n        vertical-align: middle;\n    }\n\n    .dataframe tbody tr th {\n        vertical-align: top;\n    }\n\n    .dataframe thead th {\n        text-align: right;\n    }\n</style>\n<table border=\"1\" class=\"dataframe\">\n  <thead>\n    <tr style=\"text-align: right;\">\n      <th></th>\n      <th>0</th>\n      <th>1</th>\n      <th>2</th>\n      <th>3</th>\n      <th>4</th>\n      <th>5</th>\n      <th>6</th>\n      <th>7</th>\n      <th>8</th>\n      <th>9</th>\n    </tr>\n  </thead>\n  <tbody>\n    <tr>\n      <th>0</th>\n      <td>8.220635e-19</td>\n      <td>8.226829e-01</td>\n      <td>2.883782e-01</td>\n      <td>4.222503e-01</td>\n      <td>6.771082e-01</td>\n      <td>4.605238e-01</td>\n      <td>1.126041e-01</td>\n      <td>5.006096e-01</td>\n      <td>4.605238e-01</td>\n      <td>7.402573e-02</td>\n    </tr>\n    <tr>\n      <th>1</th>\n      <td>8.226829e-01</td>\n      <td>8.220635e-19</td>\n      <td>8.226829e-01</td>\n      <td>7.402573e-02</td>\n      <td>2.354944e-03</td>\n      <td>1.839701e-03</td>\n      <td>6.307989e-01</td>\n      <td>7.246362e-01</td>\n      <td>2.332666e-01</td>\n      <td>6.771082e-01</td>\n    </tr>\n    <tr>\n      <th>2</th>\n      <td>2.883782e-01</td>\n      <td>8.226829e-01</td>\n      <td>8.220635e-19</td>\n      <td>6.771082e-01</td>\n      <td>7.732195e-01</td>\n      <td>1.284135e-01</td>\n      <td>3.513949e-01</td>\n      <td>4.222503e-01</td>\n      <td>2.598400e-01</td>\n      <td>8.226829e-01</td>\n    </tr>\n    <tr>\n      <th>3</th>\n      <td>4.222503e-01</td>\n      <td>7.402573e-02</td>\n      <td>6.771082e-01</td>\n      <td>8.220635e-19</td>\n      <td>2.373450e-02</td>\n      <td>2.086284e-01</td>\n      <td>6.380788e-02</td>\n      <td>1.458442e-01</td>\n      <td>4.605238e-01</td>\n      <td>1.284135e-01</td>\n    </tr>\n    <tr>\n      <th>4</th>\n      <td>6.771082e-01</td>\n      <td>2.354944e-03</td>\n      <td>7.732195e-01</td>\n      <td>2.373450e-02</td>\n      <td>8.220635e-19</td>\n      <td>2.086284e-01</td>\n      <td>4.222503e-01</td>\n      <td>3.513949e-01</td>\n      <td>3.188965e-01</td>\n      <td>8.226829e-01</td>\n    </tr>\n    <tr>\n      <th>5</th>\n      <td>4.605238e-01</td>\n      <td>1.839701e-03</td>\n      <td>1.284135e-01</td>\n      <td>2.086284e-01</td>\n      <td>2.086284e-01</td>\n      <td>8.220635e-19</td>\n      <td>8.226829e-01</td>\n      <td>7.246362e-01</td>\n      <td>1.126041e-01</td>\n      <td>5.858584e-01</td>\n    </tr>\n    <tr>\n      <th>6</th>\n      <td>1.126041e-01</td>\n      <td>6.307989e-01</td>\n      <td>3.513949e-01</td>\n      <td>6.380788e-02</td>\n      <td>4.222503e-01</td>\n      <td>8.226829e-01</td>\n      <td>8.220635e-19</td>\n      <td>1.458442e-01</td>\n      <td>6.307989e-01</td>\n      <td>9.235023e-01</td>\n    </tr>\n    <tr>\n      <th>7</th>\n      <td>5.006096e-01</td>\n      <td>7.246362e-01</td>\n      <td>4.222503e-01</td>\n      <td>1.458442e-01</td>\n      <td>3.513949e-01</td>\n      <td>7.246362e-01</td>\n      <td>1.458442e-01</td>\n      <td>8.220635e-19</td>\n      <td>1.000000e+00</td>\n      <td>2.598400e-01</td>\n    </tr>\n    <tr>\n      <th>8</th>\n      <td>4.605238e-01</td>\n      <td>2.332666e-01</td>\n      <td>2.598400e-01</td>\n      <td>4.605238e-01</td>\n      <td>3.188965e-01</td>\n      <td>1.126041e-01</td>\n      <td>6.307989e-01</td>\n      <td>1.000000e+00</td>\n      <td>8.220635e-19</td>\n      <td>2.883782e-01</td>\n    </tr>\n    <tr>\n      <th>9</th>\n      <td>7.402573e-02</td>\n      <td>6.771082e-01</td>\n      <td>8.226829e-01</td>\n      <td>1.284135e-01</td>\n      <td>8.226829e-01</td>\n      <td>5.858584e-01</td>\n      <td>9.235023e-01</td>\n      <td>2.598400e-01</td>\n      <td>2.883782e-01</td>\n      <td>8.220635e-19</td>\n    </tr>\n  </tbody>\n</table>\n</div>"
     },
     "execution_count": 11,
     "metadata": {},
     "output_type": "execute_result"
    }
   ],
   "source": [
    "pd.DataFrame(kendallpv)"
   ]
  }
 ],
 "metadata": {
  "kernelspec": {
   "display_name": "Python 3 (ipykernel)",
   "language": "python",
   "name": "python3"
  },
  "language_info": {
   "codemirror_mode": {
    "name": "ipython",
    "version": 3
   },
   "file_extension": ".py",
   "mimetype": "text/x-python",
   "name": "python",
   "nbconvert_exporter": "python",
   "pygments_lexer": "ipython3",
   "version": "3.8.10"
  }
 },
 "nbformat": 4,
 "nbformat_minor": 5
}